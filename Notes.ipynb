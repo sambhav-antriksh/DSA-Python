{
 "cells": [
  {
   "cell_type": "markdown",
   "id": "21da80d7-d2ec-42b1-8f50-ef72a917df7d",
   "metadata": {},
   "source": [
    "This Notes were inititalised by noting that a personalized notes is needed for the Data Structures and Algorithms and Python. This notes contains algorithms and Python syntax and notes as I find these things useful for my purposes.\n",
    "The problems as I collected from various sources are put up in file DSA.ipynb."
   ]
  },
  {
   "cell_type": "markdown",
   "id": "2ef66e6b-5c7d-4cc9-a871-cd7c4feece73",
   "metadata": {},
   "source": [
    "### Python_Notes"
   ]
  },
  {
   "cell_type": "markdown",
   "id": "77c70286-8ee6-4dd8-abfb-03c727d9ceb9",
   "metadata": {},
   "source": [
    "1. Do not forget the importance of \"tab\" key. It gives immediately all available functions"
   ]
  },
  {
   "cell_type": "markdown",
   "id": "1dd120e4-6fd3-49bb-a394-71acd0aa8412",
   "metadata": {},
   "source": [
    "Python List Slicing and References\n",
    "\n",
    "    Slicing Creates a New List (Shallow Copy):\n",
    "        When you slice a list in Python, such as new_list = original_list[start:end], Python creates a new list (a shallow copy) with the specified elements.\n",
    "        This new list is a separate object from original_list, even though it contains the same elements.\n",
    "\n",
    "    Separate References:\n",
    "        Since slicing creates a new list, any changes to new_list after slicing do not affect original_list (and vice versa). They are now independent."
   ]
  },
  {
   "cell_type": "code",
   "execution_count": null,
   "id": "3dd294af-eb22-423c-ac30-88f74d17eeb9",
   "metadata": {},
   "outputs": [],
   "source": [
    "x = [1, 2, 3, 4]\n",
    "y = x[1:]      # y is now [2, 3, 4], a new list separate from x\n",
    "y[0] = 99      # This change affects y only, not x\n",
    "print(x)       # Output: [1, 2, 3, 4]\n",
    "print(y)       # Output: [99, 3, 4]\n"
   ]
  },
  {
   "cell_type": "markdown",
   "id": "cdee9ae5-3473-429c-82ef-c9852a575336",
   "metadata": {},
   "source": [
    "Re-slicing Breaks Shared References:\n",
    "\n",
    "    If a and b refer to the same list (e.g., a = b), slicing a to create a = a[0:] will break the shared reference.\n",
    "    After re-slicing, a now points to a new list, and changes to a will no longer affect b"
   ]
  },
  {
   "cell_type": "markdown",
   "id": "57512480-7112-4110-a352-26a2f47330ae",
   "metadata": {},
   "source": [
    "This behavior is specific to slicing. Direct assignments, like new_list = original_list, create a reference to the same list (not a new list), so changes to either variable will affect both."
   ]
  },
  {
   "cell_type": "code",
   "execution_count": null,
   "id": "68589a7b-055a-4c87-aabb-bb17840e5511",
   "metadata": {},
   "outputs": [],
   "source": [
    "print(type(range(1,10))) #range is a different class\n",
    "print(type([1,2,3])) #list is a different class\n",
    "print(type(list(range(1,10))))"
   ]
  },
  {
   "cell_type": "markdown",
   "id": "a7920b84-7998-454e-b080-321b3bd9dd74",
   "metadata": {},
   "source": [
    "### List and arrays: Arrays elements are faster to reach rather than lists. In python however indexing helps the same speed as in list as in arrays.\n",
    "### In the binary search you first have to assume that the list is sorted and then you divide it in half. Now three cases are possible either the search element is in right of the list or in the left of the list or the midpoint itself. Proceed from there. Time taken to search is proportional to log(n)."
   ]
  },
  {
   "cell_type": "code",
   "execution_count": null,
   "id": "6b7a76aa-b749-4628-9da3-eb86a12733a4",
   "metadata": {},
   "outputs": [],
   "source": [
    "# A python program for implementing binary search in the sorted list\n",
    "def binary_search(seq,v):\n",
    "    midpoint=len(seq)//2     #return the integral value\n",
    "    \n",
    "    if v==seq[midpoint]:\n",
    "        return True\n",
    "        \n",
    "    if midpoint==0:\n",
    "        return False\n",
    "        \n",
    "    elif v<seq[midpoint]:\n",
    "        return( binary_search(seq[0:midpoint],v))\n",
    "        \n",
    "    elif v>seq[midpoint]:\n",
    "        return(binary_search(seq[midpoint:len(seq)],v))\n",
    "    "
   ]
  },
  {
   "cell_type": "code",
   "execution_count": null,
   "id": "8a865c05-2ab3-41c3-b062-e87e5212024b",
   "metadata": {},
   "outputs": [],
   "source": [
    "l=[100,190,250,400]\n",
    "binary_search(l,90)"
   ]
  },
  {
   "cell_type": "markdown",
   "id": "c830ae94-c690-46c1-9dd6-6dd9e9b9396c",
   "metadata": {},
   "source": [
    "In linux we can use --> time python3 program.py to display the time. 10^7 steps the python can do in a second"
   ]
  },
  {
   "cell_type": "markdown",
   "id": "641e3c28-adab-49aa-9a46-9359cff48f6f",
   "metadata": {},
   "source": [
    "# Selection sort \n",
    "### we select the element in the unsorted list and move the element into the sorted list and hence the name selection sort\n",
    "### we can also swap the elements directly"
   ]
  },
  {
   "cell_type": "code",
   "execution_count": null,
   "id": "e9ba90bf-50f9-4afd-bc66-664db2d2d8bc",
   "metadata": {},
   "outputs": [],
   "source": [
    "def selection_sort(l):\n",
    "    for i in range(len(l)):\n",
    "        for k in range(i+1,len(l)):\n",
    "            if l[i]>l[k]:\n",
    "                (l[i],l[k])=(l[k],l[i])\n",
    "    return l"
   ]
  },
  {
   "cell_type": "markdown",
   "id": "fbc75f78-9f9e-4c5e-b9ab-0b89606be5dd",
   "metadata": {},
   "source": [
    "# Insertion Sort\n",
    "### We pick the element from the unsorted list put in the new list and then pick another element ; we find its relative position that where it should be placed and there we place it in the sorted list. That is the way through which we obtain the required sorting."
   ]
  },
  {
   "cell_type": "code",
   "execution_count": null,
   "id": "48dbc2b2-a90f-47dc-b2b6-cc22e11da0f0",
   "metadata": {},
   "outputs": [],
   "source": [
    "def insertion_sort(l):\n",
    "    for i in range(len(l)):\n",
    "        while i>0 and l[i-1]>l[i]:\n",
    "            (l[i-1],l[i])=(l[i],l[i-1])\n",
    "            i-=1\n",
    "    return l"
   ]
  },
  {
   "cell_type": "markdown",
   "id": "16d99fef-0fc8-4417-9832-c1c8e0beae4c",
   "metadata": {},
   "source": [
    "# Recursion  "
   ]
  },
  {
   "cell_type": "markdown",
   "id": "eee32121-70f8-4ed4-aef0-677748f97c3c",
   "metadata": {},
   "source": [
    "### Length of the list"
   ]
  },
  {
   "cell_type": "code",
   "execution_count": null,
   "id": "fc0ba98f-6dbd-4d27-b3a0-578bf180db71",
   "metadata": {},
   "outputs": [],
   "source": [
    "def length(l):\n",
    "    if l==[]:\n",
    "        return 0\n",
    "    else:\n",
    "        return (1+length(l[1:]))    #Recursively we are calling the functions \n",
    "    "
   ]
  },
  {
   "cell_type": "code",
   "execution_count": null,
   "id": "a5003c47-26e8-408c-ba2e-15aa6058fd5d",
   "metadata": {},
   "outputs": [],
   "source": [
    "def sum_list(l):\n",
    "    if l==[]:\n",
    "        return 0\n",
    "    else:\n",
    "        return (l[0]+sum_list(l[1:]))"
   ]
  },
  {
   "cell_type": "code",
   "execution_count": null,
   "id": "8fe792e6-2a1c-4bd8-93ab-682be2bf3a98",
   "metadata": {},
   "outputs": [],
   "source": [
    "l=list(range(1,1000))\n",
    "sum_list(l)"
   ]
  },
  {
   "cell_type": "markdown",
   "id": "fd3fef2d-a533-47bf-bc0f-d7b9792e1f41",
   "metadata": {},
   "source": [
    "# Merge Sort"
   ]
  },
  {
   "cell_type": "code",
   "execution_count": null,
   "id": "b2703075-a286-427d-b01d-472e55fa48eb",
   "metadata": {},
   "outputs": [],
   "source": [
    "# there are two sorted list and then we have to merge them to get the complete sorted list\n",
    "# A and B are sorted list which will be merged to get C \n",
    "def merge(A,B):\n",
    "    C=[]\n",
    "    m=len(A)\n",
    "    n=len(B)\n",
    "    A_counter=0\n",
    "    B_counter=0\n",
    "    while (A_counter+B_counter)<m+n:\n",
    "        if B_counter==n:\n",
    "            C.append(A[A_counter])\n",
    "            A_counter+=1\n",
    "        elif A_counter==m:\n",
    "            C.append(B[B_counter])\n",
    "            B_counter+=1\n",
    "        elif A[A_counter]>B[B_counter]:\n",
    "            C.append(B[B_counter])\n",
    "            B_counter+=1\n",
    "        elif A[A_counter]<=B[B_counter]:\n",
    "            C.append(A[A_counter])\n",
    "            A_counter+=1\n",
    "    return C    \n",
    "    "
   ]
  },
  {
   "cell_type": "code",
   "execution_count": null,
   "id": "21862a52-b62c-4ec6-8f1e-96348ecba2d6",
   "metadata": {},
   "outputs": [],
   "source": [
    "#algorithm for merge_sorting #note the recursive calling \n",
    "def merge_sort(l):\n",
    "    if len(l)<=1:\n",
    "        return l\n",
    "    else:\n",
    "        mid=len(l)//2\n",
    "        L=merge_sort(l[0:mid])\n",
    "        R=merge_sort(l[mid:len(l)])\n",
    "        return merge(L,R)"
   ]
  },
  {
   "cell_type": "code",
   "execution_count": null,
   "id": "6786db77-3455-4856-acbc-832973c2b02b",
   "metadata": {},
   "outputs": [],
   "source": [
    "l=[43,32,22,78,63,57,91,13]\n",
    "merge_sort(l)"
   ]
  },
  {
   "cell_type": "code",
   "execution_count": null,
   "id": "0be11663-c344-4268-9f18-4d4871cb0b10",
   "metadata": {},
   "outputs": [],
   "source": [
    "# Recursive Insertion_sort\n",
    "def InsertionSort(l):\n",
    "    isort(l,len(l))\n",
    "    return l\n",
    "\n",
    "\n",
    "def isort(l,k):  #sort the first k elements of the list\n",
    "    if k>1:\n",
    "        isort(l,k-1)\n",
    "        insert(l,k-1)\n",
    "\n",
    "def insert(l,k):  #inserts the element at k at correct position in the sorted list\n",
    "    while k>0 and l[k-1]>l[k]:\n",
    "        (l[k-1],l[k])=(l[k],l[k-1])\n",
    "        k-=1"
   ]
  },
  {
   "cell_type": "markdown",
   "id": "bc2f6648-a47e-4d46-bc1e-07374aa43882",
   "metadata": {},
   "source": [
    "Suppose the list has duplicate entry then how do we sort such that only one entry is taken into account ?"
   ]
  },
  {
   "cell_type": "code",
   "execution_count": null,
   "id": "fb1cec72-0695-4e2b-b0a5-ba5df1a3e624",
   "metadata": {},
   "outputs": [],
   "source": [
    "\n",
    "def merge(A,B):\n",
    "    (m,n)=(len(A),len(B))\n",
    "    C=[]\n",
    "    (i,j)=(0,0)\n",
    "    while i+j<m+n:\n",
    "        if i==m:\n",
    "            C.append(B[j])\n",
    "            j=j+1\n",
    "        elif j==n:\n",
    "            C.append(A[i])\n",
    "            i=i+1\n",
    "        elif A[i]<=B[j]:\n",
    "            if A[i]==B[j]:\n",
    "                j=j+1\n",
    "            C.append(A[i])\n",
    "            i=i+1\n",
    "\n",
    "        elif A[i]>B[j]:\n",
    "            C.append(B[j])\n",
    "            j=j+1\n",
    "    return C"
   ]
  },
  {
   "cell_type": "code",
   "execution_count": null,
   "id": "a3a97e41-55e1-408c-949a-6021c3edcbde",
   "metadata": {},
   "outputs": [],
   "source": [
    "def merge_sort(l):\n",
    "    if len(l)<=1:\n",
    "        return l\n",
    "    else:\n",
    "        mid=len(l)//2\n",
    "        left=merge_sort(l[0:mid])\n",
    "        right=merge_sort(l[mid:len(l)])\n",
    "        return merge(left,right)\n",
    "    "
   ]
  },
  {
   "cell_type": "markdown",
   "id": "f0ed73e7-1222-40b6-bfc6-8006893229d1",
   "metadata": {},
   "source": [
    "Implementation of above code\n",
    "[1,3,5,2] ------> len(l)=4 & mid=2 left= [1,3] right=[2,5]) ----->[1,2,3,5]\n",
    "[1,3,5,2,7,6] ---> len(l)=6 & mid=3 left=[1,3,5] right=([2,6,7]) "
   ]
  },
  {
   "cell_type": "code",
   "execution_count": null,
   "id": "a8749372-6ec9-4ebf-bc4e-427c5a34038e",
   "metadata": {},
   "outputs": [],
   "source": [
    "# Need to visualize the working of the code again \n",
    "A=[1,2,3]\n",
    "B=[4,5,6]\n",
    "# List difference --- in A but not in B A-B=[1,2,3]"
   ]
  },
  {
   "cell_type": "code",
   "execution_count": null,
   "id": "d7fc9bfb-de59-40ee-bc2e-efc43e0a996d",
   "metadata": {},
   "outputs": [],
   "source": [
    "#List difference in merge_sort\n",
    "def merge(A,B):\n",
    "    (m,n)=(len(A),len(B))\n",
    "    C=[]\n",
    "    (i,j)=(0,0)\n",
    "    while i+j<m+n:\n",
    "        if i==m:\n",
    "            C.append(B[j])\n",
    "            j=j+1\n",
    "        elif j==n:\n",
    "            C.append(B[i])\n",
    "            i=i+1\n",
    "        elif A[i]<B[j]:\n",
    "            C.append(A[i])\n",
    "            i=i+1\n",
    "        elif A[i]==B[j]:\n",
    "            i=i+1\n",
    "            j=j+1\n",
    "        elif A[i]>B[j]:\n",
    "            C.append(B[j])\n",
    "            j=j+1\n",
    "    return C\n",
    "            "
   ]
  },
  {
   "cell_type": "code",
   "execution_count": null,
   "id": "13f15e15-17f2-4a1b-8d2b-149013427bf5",
   "metadata": {},
   "outputs": [],
   "source": [
    "def merge_sort(l):\n",
    "    if len(l)<=1:\n",
    "        return l\n",
    "    else:\n",
    "        mid=len(l)//2\n",
    "        left=merge_sort(l[0:mid])\n",
    "        right=merge_sort(l[mid:len(l)])\n",
    "        return merge(left,right)"
   ]
  },
  {
   "cell_type": "code",
   "execution_count": null,
   "id": "26381a2c-b12e-4a4e-b539-c46253845777",
   "metadata": {},
   "outputs": [],
   "source": [
    "A=[1,2,2,3]\n",
    "B=[4,5,6]\n",
    "merge_sort(A)"
   ]
  },
  {
   "cell_type": "code",
   "execution_count": null,
   "id": "c7305a1f-c9f7-4efa-be92-0066e9264718",
   "metadata": {},
   "outputs": [],
   "source": [
    "def QuickSort(l):\n",
    "    if len(l)<=1:\n",
    "        return (l)\n",
    "    yellow=1\n",
    "    for green in range(1,len(l)):\n",
    "        if l[green]<=l[0]:\n",
    "            (l[yellow],l[green])=(l[green],l[yellow])\n",
    "            yellow=yellow+1\n",
    "    # move pivot in place\n",
    "\n",
    "    (l[0],l[yellow-1])=(l[yellow-1],l[0])\n",
    "    \n",
    "    left_sorted=QuickSort(l[0:yellow-1])\n",
    "    \n",
    "    right_sorted=QuickSort(l[yellow:len(l)])\n",
    "    \n",
    "    return left_sorted+[l[yellow-1]]+right_sorted"
   ]
  },
  {
   "cell_type": "code",
   "execution_count": null,
   "id": "c7fcba4c-cf35-4fa0-852f-75658c3c7a54",
   "metadata": {},
   "outputs": [],
   "source": [
    "l=[43,32,22,78,63,57,91,13]\n",
    "QuickSort(l)"
   ]
  },
  {
   "cell_type": "code",
   "execution_count": null,
   "id": "c1e7b026-c807-4f87-9f9e-b19f8078295b",
   "metadata": {},
   "outputs": [],
   "source": [
    "def QuickSort(l):\n",
    "    if len(l) <= 1:  # Base case\n",
    "        return l\n",
    "    \n",
    "    yellow = 1  # Partition index\n",
    "    for green in range(1, len(l)):\n",
    "        if l[green] <= l[0]:  # Compare with pivot\n",
    "            l[yellow], l[green] = l[green], l[yellow]\n",
    "            yellow += 1\n",
    "    \n",
    "    # Move pivot to its correct position\n",
    "    l[0], l[yellow - 1] = l[yellow - 1], l[0]\n",
    "    \n",
    "    # Recursive sorting of partitions\n",
    "    left_sorted = QuickSort(l[:yellow - 1])\n",
    "    right_sorted = QuickSort(l[yellow:])\n",
    "    \n",
    "    # Combine sorted parts\n",
    "    return left_sorted + [l[yellow - 1]] + right_sorted  #because remember list slicing gives a new list\n"
   ]
  },
  {
   "cell_type": "code",
   "execution_count": null,
   "id": "2f723edf-2303-4dff-9716-f396931b3b88",
   "metadata": {},
   "outputs": [],
   "source": [
    "QuickSort(l)"
   ]
  },
  {
   "cell_type": "code",
   "execution_count": null,
   "id": "0097b8c4-94fa-4a67-be89-82b53b047f1c",
   "metadata": {},
   "outputs": [],
   "source": [
    "def quicksort(l):\n",
    "    if len(l)<=1:\n",
    "        return l\n",
    "    else:\n",
    "        yellow=1\n",
    "        for green in range(1,len(l)):\n",
    "            if l[green]<l[0]: #pivot is first element\n",
    "                yellow+=1\n",
    "                l[green],l[yellow]=l[yellow],l[green]  #notice the beautiful implementation of swapping\n",
    "        l[0],l[yellow-1]=l[yellow-1],l[0]\n",
    "        left_sorted=quicksort(l[0:yellow-1])\n",
    "        right_sorted=quicksort(l[yellow:len(l)])\n",
    "        return left_sorted+[l[yellow-1]]+right_sorted #notice that sliced list is the copy of the original list in python"
   ]
  },
  {
   "cell_type": "code",
   "execution_count": null,
   "id": "1cfc05b6-afe6-4e5c-871a-c1a479a79bd4",
   "metadata": {},
   "outputs": [],
   "source": [
    "quicksort([13, 22, 32, 43, 57, 63, 78, 91])"
   ]
  },
  {
   "cell_type": "markdown",
   "id": "daa05f00-71e4-44ac-b0bf-632ac2775302",
   "metadata": {},
   "source": [
    "# Dictionaries in Pyhton"
   ]
  },
  {
   "cell_type": "code",
   "execution_count": null,
   "id": "2177eab6-ac11-4fbc-88a2-defbf2518f7d",
   "metadata": {},
   "outputs": [],
   "source": [
    "score={}\n",
    "score[\"Test1\"]={} # we are trying to create the nested dictionaries\n",
    "score[\"Test1\"][\"Dhawan\"]=23 \n",
    "score[\"Test1\"][\"Kohli\"]=59\n",
    "score[\"Test2\"]={}\n",
    "score[\"Test2\"][\"Dhawan\"]=45\n",
    "score[\"Test2\"][\"Kohli\"]=56\n",
    "\n"
   ]
  },
  {
   "cell_type": "code",
   "execution_count": null,
   "id": "7c7670ed-bccc-4307-a05a-f86d7f60a4a6",
   "metadata": {},
   "outputs": [],
   "source": [
    "print(score)"
   ]
  },
  {
   "cell_type": "code",
   "execution_count": null,
   "id": "591f0049-3525-46af-9a62-aa16424b6792",
   "metadata": {},
   "outputs": [],
   "source": [
    "marks={}  #simple dictionary\n",
    "marks[\"sambhav\"]=45\n",
    "marks[\"anurag\"]=49\n",
    "marks[\"kashyap\"]=50"
   ]
  },
  {
   "cell_type": "code",
   "execution_count": null,
   "id": "e139493e-06d8-431a-a4e3-254e438a08c6",
   "metadata": {},
   "outputs": [],
   "source": [
    "d={}\n",
    "for l in \"abcdefg\":\n",
    "    d[l]=l\n",
    "print(d)"
   ]
  },
  {
   "cell_type": "code",
   "execution_count": null,
   "id": "887712f9-7880-4d22-a580-fc6126d0beaa",
   "metadata": {},
   "outputs": [],
   "source": [
    "d.keys()  #returns the keys of the dictionary not necessarily in the inserted order but in some random order\n",
    "d.values() #returns the values of the dictionary not necessarily in the inserted order but in some random order"
   ]
  },
  {
   "cell_type": "code",
   "execution_count": null,
   "id": "6dfa2f7e-8e1c-44ca-83dd-cc97f941023e",
   "metadata": {},
   "outputs": [],
   "source": [
    "score"
   ]
  },
  {
   "cell_type": "code",
   "execution_count": null,
   "id": "b20b75a2-290d-412e-8338-760acc041823",
   "metadata": {},
   "outputs": [],
   "source": [
    "total={}\n",
    "for n in [\"Dhawan\",\"Kohli\"]:\n",
    "    total[n]=0\n",
    "    for match in score.keys():\n",
    "        if n in score[match].keys():\n",
    "            total[n]+=score[match][n]"
   ]
  },
  {
   "cell_type": "code",
   "execution_count": null,
   "id": "4d4bab2e-0415-4ffb-9549-b29eaae24687",
   "metadata": {},
   "outputs": [],
   "source": [
    "total"
   ]
  },
  {
   "cell_type": "code",
   "execution_count": null,
   "id": "93009022-b639-4361-8228-c4235dbfc9bf",
   "metadata": {},
   "outputs": [],
   "source": [
    "def f(x):\n",
    "    return x*x\n",
    "\n",
    "def applylist(f,l):\n",
    "    temp_list=[]\n",
    "    for x in l:\n",
    "        x=f(x)\n",
    "        temp_list.append(x)\n",
    "    return temp_list\n",
    "\n",
    "\n",
    "l=[1,2,3]\n",
    "print(applylist(f,l))"
   ]
  },
  {
   "cell_type": "code",
   "execution_count": null,
   "id": "ee9b28e8-00c2-489d-ae4a-c1ed34edcb46",
   "metadata": {},
   "outputs": [],
   "source": [
    "map(f,l)"
   ]
  },
  {
   "cell_type": "code",
   "execution_count": null,
   "id": "87afac53-5136-4333-9405-578b62606229",
   "metadata": {},
   "outputs": [],
   "source": [
    "list(map(f,l))"
   ]
  },
  {
   "cell_type": "code",
   "execution_count": null,
   "id": "fb9ee549-b833-49e9-b47e-3e23243c17b6",
   "metadata": {},
   "outputs": [],
   "source": [
    "def p(x):\n",
    "    if x<3:\n",
    "        return True\n",
    "    else:\n",
    "        False"
   ]
  },
  {
   "cell_type": "code",
   "execution_count": null,
   "id": "a0c15ee1-00ac-459b-9e57-5864baadad06",
   "metadata": {},
   "outputs": [],
   "source": [
    "list(filter(p,l))"
   ]
  },
  {
   "cell_type": "code",
   "execution_count": 17,
   "id": "4f6a6a41-6d26-44ef-a2f0-404ad26c84c1",
   "metadata": {},
   "outputs": [],
   "source": [
    "def square(x):\n",
    "    return x*x\n",
    "def iseven(x):\n",
    "    return (x%2==0)\n",
    "\n",
    "# list(map(square,filter(iseven,range(100))))"
   ]
  },
  {
   "cell_type": "code",
   "execution_count": 1,
   "id": "f78955d0-604d-4124-8376-164e925c8310",
   "metadata": {},
   "outputs": [
    {
     "ename": "NameError",
     "evalue": "name 'iseven' is not defined",
     "output_type": "error",
     "traceback": [
      "\u001b[0;31m---------------------------------------------------------------------------\u001b[0m",
      "\u001b[0;31mNameError\u001b[0m                                 Traceback (most recent call last)",
      "Cell \u001b[0;32mIn[1], line 1\u001b[0m\n\u001b[0;32m----> 1\u001b[0m [square(x) \u001b[38;5;28;01mfor\u001b[39;00m x \u001b[38;5;129;01min\u001b[39;00m \u001b[38;5;28mrange\u001b[39m(\u001b[38;5;241m10\u001b[39m) \u001b[38;5;28;01mif\u001b[39;00m \u001b[43miseven\u001b[49m(x)]\n\u001b[1;32m      2\u001b[0m \u001b[38;5;66;03m#functional programming\u001b[39;00m\n",
      "\u001b[0;31mNameError\u001b[0m: name 'iseven' is not defined"
     ]
    }
   ],
   "source": [
    "[square(x) for x in range(10) if iseven(x)]\n",
    "#functional programming\n"
   ]
  },
  {
   "cell_type": "code",
   "execution_count": 1,
   "id": "80d78545-60bb-4788-8306-d3b1d9ba461f",
   "metadata": {},
   "outputs": [
    {
     "data": {
      "text/plain": [
       "[(0, 0, 0),\n",
       " (0, 1, 1),\n",
       " (0, 2, 2),\n",
       " (0, 3, 3),\n",
       " (0, 4, 4),\n",
       " (0, 5, 5),\n",
       " (0, 6, 6),\n",
       " (0, 7, 7),\n",
       " (0, 8, 8),\n",
       " (0, 9, 9),\n",
       " (1, 0, 1),\n",
       " (2, 0, 2),\n",
       " (3, 0, 3),\n",
       " (3, 4, 5),\n",
       " (4, 0, 4),\n",
       " (4, 3, 5),\n",
       " (5, 0, 5),\n",
       " (6, 0, 6),\n",
       " (6, 8, 10),\n",
       " (7, 0, 7),\n",
       " (8, 0, 8),\n",
       " (8, 6, 10),\n",
       " (9, 0, 9)]"
      ]
     },
     "execution_count": 1,
     "metadata": {},
     "output_type": "execute_result"
    }
   ],
   "source": [
    "[(x,y,z) for x in range(10) for y in range(10) for z in range(100) if x**2+y**2==z**2] \n",
    "#[ map for x in list1 for y in list if condition]"
   ]
  },
  {
   "cell_type": "code",
   "execution_count": 25,
   "id": "d0fba650-a6d5-4082-b748-55f90b1297e9",
   "metadata": {},
   "outputs": [],
   "source": [
    "l=[[0 for i in range(3)]for j in range(4)]"
   ]
  },
  {
   "cell_type": "code",
   "execution_count": 26,
   "id": "beabe501-3b66-4290-a4a0-abf8bc36508f",
   "metadata": {},
   "outputs": [
    {
     "data": {
      "text/plain": [
       "[[0, 0, 0], [0, 0, 0], [0, 0, 0], [0, 0, 0]]"
      ]
     },
     "execution_count": 26,
     "metadata": {},
     "output_type": "execute_result"
    }
   ],
   "source": [
    "l"
   ]
  },
  {
   "cell_type": "code",
   "execution_count": 27,
   "id": "9a7149b8-131f-4044-a0e3-acae6f238600",
   "metadata": {},
   "outputs": [],
   "source": [
    "l[1][1]=7"
   ]
  },
  {
   "cell_type": "code",
   "execution_count": 28,
   "id": "a055aac5-5484-4c4a-bc90-4d028dbd1c8f",
   "metadata": {},
   "outputs": [
    {
     "data": {
      "text/plain": [
       "[[0, 0, 0], [0, 7, 0], [0, 0, 0], [0, 0, 0]]"
      ]
     },
     "execution_count": 28,
     "metadata": {},
     "output_type": "execute_result"
    }
   ],
   "source": [
    "l"
   ]
  },
  {
   "cell_type": "code",
   "execution_count": 29,
   "id": "fe07e65b-8e71-4078-8373-f1b5d08633c8",
   "metadata": {},
   "outputs": [],
   "source": [
    "zero_list=[0 for i in range(3)]\n",
    "l=[zero_list for i in range(4)]"
   ]
  },
  {
   "cell_type": "code",
   "execution_count": 30,
   "id": "9dc8d43f-4b83-427f-be94-be9b413318b2",
   "metadata": {},
   "outputs": [
    {
     "data": {
      "text/plain": [
       "[[0, 0, 0], [0, 0, 0], [0, 0, 0], [0, 0, 0]]"
      ]
     },
     "execution_count": 30,
     "metadata": {},
     "output_type": "execute_result"
    }
   ],
   "source": [
    "l"
   ]
  },
  {
   "cell_type": "code",
   "execution_count": 31,
   "id": "50e8323d-915b-4669-b8da-ee6aa8afab79",
   "metadata": {},
   "outputs": [
    {
     "data": {
      "text/plain": [
       "0"
      ]
     },
     "execution_count": 31,
     "metadata": {},
     "output_type": "execute_result"
    }
   ],
   "source": [
    "l[1][1]"
   ]
  },
  {
   "cell_type": "code",
   "execution_count": 32,
   "id": "07fdd6e6-eb66-4820-a9e6-4dd9ee20de25",
   "metadata": {},
   "outputs": [],
   "source": [
    "l[1][1]=7\n"
   ]
  },
  {
   "cell_type": "code",
   "execution_count": 33,
   "id": "bf04aa5e-8fb8-48e5-b531-3159b91886f7",
   "metadata": {},
   "outputs": [
    {
     "data": {
      "text/plain": [
       "[[0, 7, 0], [0, 7, 0], [0, 7, 0], [0, 7, 0]]"
      ]
     },
     "execution_count": 33,
     "metadata": {},
     "output_type": "execute_result"
    }
   ],
   "source": [
    "l"
   ]
  },
  {
   "cell_type": "markdown",
   "id": "8ff0a3f8-b9be-4981-a53d-37efc93643d2",
   "metadata": {},
   "source": [
    "#  Exception Handling"
   ]
  },
  {
   "cell_type": "code",
   "execution_count": 4,
   "id": "480b74b3-b93d-46b4-be3a-509590219164",
   "metadata": {},
   "outputs": [],
   "source": [
    "# Exception handling\n",
    "# new kind of positive use of exception handling\n",
    "scores={'Dhawan':[3,20],'Kohli':[200,3]}\n"
   ]
  },
  {
   "cell_type": "code",
   "execution_count": 5,
   "id": "c41ef4ca-9ced-45f3-b4cc-6c92c40d82fe",
   "metadata": {},
   "outputs": [],
   "source": [
    "#different kind of programming style\n",
    "try:\n",
    "    scores['Ramesh'].append(50)\n",
    "except KeyError:\n",
    "    scores['Ramesh']=50"
   ]
  },
  {
   "cell_type": "code",
   "execution_count": 7,
   "id": "98e44663-bc19-4860-90d7-885dca01bb6e",
   "metadata": {},
   "outputs": [
    {
     "data": {
      "text/plain": [
       "{'Dhawan': [3, 20], 'Kohli': [200, 3], 'Ramesh': 50}"
      ]
     },
     "execution_count": 7,
     "metadata": {},
     "output_type": "execute_result"
    }
   ],
   "source": [
    "scores"
   ]
  },
  {
   "cell_type": "code",
   "execution_count": 1,
   "id": "7c68e15f-0ab3-4586-b3fe-274f9a7ed194",
   "metadata": {},
   "outputs": [
    {
     "name": "stdin",
     "output_type": "stream",
     "text": [
      "Enter the integer ty\n"
     ]
    },
    {
     "name": "stdout",
     "output_type": "stream",
     "text": [
      "You have entered the wrong number ; try again\n"
     ]
    },
    {
     "name": "stdin",
     "output_type": "stream",
     "text": [
      "Enter the integer 23\n"
     ]
    }
   ],
   "source": [
    "# try and else command in the exception handling \n",
    "while(True):\n",
    "    try:\n",
    "        n=int(input('Enter the integer'))\n",
    "    except ValueError:\n",
    "        print('You have entered the wrong number ; try again')\n",
    "    else:\n",
    "        break"
   ]
  },
  {
   "cell_type": "markdown",
   "id": "1fe5b6df-0c95-4c7d-b5a1-5cd494b2ea69",
   "metadata": {},
   "source": [
    "Notice the duo of the try and else statement. The idea is that if try does work then except does not and then the argument flows to else. In short , this syntax tells that try if it fails then go to except but if except does not executed go to else"
   ]
  },
  {
   "cell_type": "markdown",
   "id": "559a3fbc-62fd-4009-9eee-67fcdbd0b38f",
   "metadata": {},
   "source": [
    "# Standard I/O "
   ]
  },
  {
   "cell_type": "code",
   "execution_count": 4,
   "id": "09478b09-8f2c-47f3-9ebd-7d8a4a41ff7a",
   "metadata": {},
   "outputs": [
    {
     "name": "stdin",
     "output_type": "stream",
     "text": [
      "Enter the integer :  ty\n"
     ]
    },
    {
     "name": "stdout",
     "output_type": "stream",
     "text": [
      "Did you not know what the integer is ? Try again \n"
     ]
    },
    {
     "name": "stdin",
     "output_type": "stream",
     "text": [
      "Enter the integer :  45\n"
     ]
    }
   ],
   "source": [
    "# Taking the input from the user unless the user types the integer\n",
    "while(True):\n",
    "    try:\n",
    "        usernum=int(input('Enter the integer : '))\n",
    "    except ValueError:\n",
    "        print('Did you not know what the integer is ? Try again ')\n",
    "\n",
    "    else:\n",
    "        break"
   ]
  },
  {
   "cell_type": "markdown",
   "id": "7eea1f64-d5e4-4278-9b97-3b7368f26abc",
   "metadata": {},
   "source": [
    "# Handling files through Python"
   ]
  },
  {
   "cell_type": "code",
   "execution_count": 5,
   "id": "6c16e578-7513-4dbd-8a22-5a93cedacc03",
   "metadata": {},
   "outputs": [],
   "source": [
    "# for this we need some file\n",
    "# we have input.txt\n"
   ]
  },
  {
   "cell_type": "markdown",
   "id": "1703a1e3-9331-4fa8-92ca-44e00a55fa08",
   "metadata": {},
   "source": [
    "Memory <------> Buffer <---------> Disk\n",
    "The Buffer is the file handle . Buffer is a temporary parking place for the data.\n",
    "open('file_name','r/w/a') : creates the buffer generally called as file handle\n",
    "remember to close the file handle that will write out buffer to disk (flushe) and disconnect the file handle."
   ]
  },
  {
   "cell_type": "markdown",
   "id": "47dd011c-4281-4dc7-99de-e7c1b00a39ed",
   "metadata": {},
   "source": [
    "Readfiles"
   ]
  },
  {
   "cell_type": "code",
   "execution_count": 7,
   "id": "333b4fe7-8f82-4b07-ad87-d18ada6c4379",
   "metadata": {},
   "outputs": [],
   "source": [
    "fh=open('input.txt','r')\n",
    "contents=fh.read()"
   ]
  },
  {
   "cell_type": "code",
   "execution_count": 8,
   "id": "667060d7-b541-4b1f-9c21-b6821bc0b1de",
   "metadata": {},
   "outputs": [
    {
     "name": "stdout",
     "output_type": "stream",
     "text": [
      "The quick \n",
      "brown fox\n",
      "jumps over the lazy\n",
      "dog\n"
     ]
    }
   ],
   "source": [
    "print(contents)\n",
    "fh.close()"
   ]
  },
  {
   "cell_type": "code",
   "execution_count": 12,
   "id": "79b1d390-b708-444f-b9fe-262aaf408e16",
   "metadata": {},
   "outputs": [
    {
     "name": "stdout",
     "output_type": "stream",
     "text": [
      "The quick \n",
      "\n",
      "brown fox\n",
      "\n",
      "jumps over the lazy\n",
      "\n",
      "dog\n"
     ]
    }
   ],
   "source": [
    "fh=open('input.txt','r')\n",
    "contents=fh.readlines()\n",
    "for line in contents:\n",
    "    print(line)\n",
    "fh.close()     #in this print we notice the extra spacing this is due to the fact that print() itself gives one spacing"
   ]
  },
  {
   "cell_type": "code",
   "execution_count": 13,
   "id": "51912e9a-fe9f-46d9-9c3e-6fdd5b05aa42",
   "metadata": {},
   "outputs": [
    {
     "name": "stdout",
     "output_type": "stream",
     "text": [
      "The quick \n",
      "brown fox\n",
      "jumps over the lazy\n",
      "dog"
     ]
    }
   ],
   "source": [
    "# to overcome the above problem of double spacing\n",
    "fh=open('input.txt','r')\n",
    "for line in fh.readlines():\n",
    "    print(line,end='')\n",
    "fh.close()"
   ]
  },
  {
   "cell_type": "markdown",
   "id": "0f7da601-4234-4011-a522-d7c02f28c933",
   "metadata": {},
   "source": [
    "Note one more thing that is the following : ------> the file_handle that is the buffer has reached the end; so it does not matter if you again try to repeat the steps. \n",
    "One way is to close the file handle that is buffer and then create the buffer."
   ]
  },
  {
   "cell_type": "code",
   "execution_count": 22,
   "id": "5320947d-b2a9-48f9-a904-19e439b6381b",
   "metadata": {},
   "outputs": [
    {
     "name": "stdout",
     "output_type": "stream",
     "text": [
      "The quick brown\n",
      "fox jumps over the \n",
      "lazy dog."
     ]
    }
   ],
   "source": [
    "fh=open('input.txt','r')\n",
    "for line in fh.readlines():\n",
    "    print(line,end='')\n",
    "for line_again in fh.readlines():\n",
    "    print(line_again)\n",
    "fh.close()"
   ]
  },
  {
   "cell_type": "markdown",
   "id": "90c87e75-5af5-4d3a-896d-04dc88c9eb65",
   "metadata": {},
   "source": [
    "How to copy the file?"
   ]
  },
  {
   "cell_type": "code",
   "execution_count": 15,
   "id": "4575889e-7ca1-4ca1-8516-6333a1f72964",
   "metadata": {},
   "outputs": [],
   "source": [
    "infile=open('input.txt','r')\n",
    "outfile=open('output.txt','w')\n",
    "\n",
    "for line in infile.readlines():\n",
    "    outfile.writelines(line)\n",
    "\n",
    "infile.close()\n",
    "outfile.close()"
   ]
  },
  {
   "cell_type": "code",
   "execution_count": 21,
   "id": "6da4476d-f79c-4fe7-a9db-a1c245b514e9",
   "metadata": {},
   "outputs": [],
   "source": [
    "infile=open('input.txt','r')\n",
    "outfile=open('output.txt','w')\n",
    "outfile.writelines(infile.readlines())\n",
    "infile.close()\n",
    "outfile.close()\n",
    "#understand the importance of closing the file handle.\n",
    "# readlines() when finished points the pointer towards the end of the file.\n",
    "# it has to be kept in the mind"
   ]
  },
  {
   "cell_type": "markdown",
   "id": "c238380d-8ac5-4108-ad9e-f47fcd509395",
   "metadata": {},
   "source": [
    "# Processing and Manipulation of Strings"
   ]
  },
  {
   "cell_type": "code",
   "execution_count": 7,
   "id": "f87190ad-0679-4475-a05b-896c2ec14ee3",
   "metadata": {},
   "outputs": [
    {
     "data": {
      "text/plain": [
       "' Hello ! My name is Sambhav Antriksh  '"
      ]
     },
     "execution_count": 7,
     "metadata": {},
     "output_type": "execute_result"
    }
   ],
   "source": [
    "# removing whitespaces\n",
    "s=' Hello ! My name is Sambhav Antriksh  '\n",
    "s"
   ]
  },
  {
   "cell_type": "code",
   "execution_count": 8,
   "id": "c68e32f3-80b0-4dcf-9098-5a2b603ac3e1",
   "metadata": {},
   "outputs": [
    {
     "data": {
      "text/plain": [
       "'Hello ! My name is Sambhav Antriksh'"
      ]
     },
     "execution_count": 8,
     "metadata": {},
     "output_type": "execute_result"
    }
   ],
   "source": [
    "s.strip()"
   ]
  },
  {
   "cell_type": "code",
   "execution_count": 5,
   "id": "26b18df2-94e1-42cb-abd1-c5e26981d9de",
   "metadata": {},
   "outputs": [
    {
     "name": "stdout",
     "output_type": "stream",
     "text": [
      " Hello ! My name is Sambhav Antriksh  \n"
     ]
    }
   ],
   "source": [
    "print(s)"
   ]
  },
  {
   "cell_type": "code",
   "execution_count": 11,
   "id": "19f0392b-4b75-4a10-90d7-601e6eeb6d1e",
   "metadata": {},
   "outputs": [
    {
     "data": {
      "text/plain": [
       "20"
      ]
     },
     "execution_count": 11,
     "metadata": {},
     "output_type": "execute_result"
    }
   ],
   "source": [
    "# search for text in the string\n",
    "s.find('Sambhav')"
   ]
  },
  {
   "cell_type": "code",
   "execution_count": 13,
   "id": "455b738b-4f8e-4339-a218-a428c7f4622b",
   "metadata": {},
   "outputs": [
    {
     "data": {
      "text/plain": [
       "' Hello ! My name is Anubhav Antriksh  '"
      ]
     },
     "execution_count": 13,
     "metadata": {},
     "output_type": "execute_result"
    }
   ],
   "source": [
    "#Replace\n",
    "s.replace('Sambhav','Anubhav')\n"
   ]
  },
  {
   "cell_type": "code",
   "execution_count": 14,
   "id": "3c111965-cf88-4f25-b9d2-d88c8e12b447",
   "metadata": {},
   "outputs": [
    {
     "name": "stdout",
     "output_type": "stream",
     "text": [
      " Hello ! My name is Sambhav Antriksh  \n"
     ]
    }
   ],
   "source": [
    "print(s) #note that s.replace gives the copy of the original string"
   ]
  },
  {
   "cell_type": "code",
   "execution_count": 20,
   "id": "2ce0a3fa-14dd-44e0-a88d-4d9107ccbe27",
   "metadata": {},
   "outputs": [],
   "source": [
    "#split functions split the string into the list of strings\n",
    "words=s.split(\" \")"
   ]
  },
  {
   "cell_type": "code",
   "execution_count": 21,
   "id": "93036612-8899-40b3-badf-d5783eed8d9c",
   "metadata": {},
   "outputs": [
    {
     "data": {
      "text/plain": [
       "['', 'Hello', '!', 'My', 'name', 'is', 'Sambhav', 'Antriksh', '', '']"
      ]
     },
     "execution_count": 21,
     "metadata": {},
     "output_type": "execute_result"
    }
   ],
   "source": [
    "words"
   ]
  },
  {
   "cell_type": "code",
   "execution_count": 23,
   "id": "4e0de5f9-0911-4e55-a6e4-af2f7ac9345a",
   "metadata": {},
   "outputs": [
    {
     "data": {
      "text/plain": [
       "'16/08/2024'"
      ]
     },
     "execution_count": 23,
     "metadata": {},
     "output_type": "execute_result"
    }
   ],
   "source": [
    "# Join String \n",
    "date='16'\n",
    "month='08'\n",
    "year='2024'\n",
    "today='/'.join([date,month,year])\n",
    "today"
   ]
  },
  {
   "cell_type": "code",
   "execution_count": 32,
   "id": "43081371-d12d-46b2-a383-093672b146cf",
   "metadata": {},
   "outputs": [
    {
     "name": "stdout",
     "output_type": "stream",
     "text": [
      "hello in this everything is written in the lowercase\n",
      "Hello in this everything is written in the lowercase\n"
     ]
    }
   ],
   "source": [
    "# converting the case using python\n",
    "string='hello in this everything is written in the lowercase'\n",
    "new=string.capitalize()\n",
    "print(string)\n",
    "print(new) #observe that the output is the copy of the original list\n",
    "#original list remains untouched  "
   ]
  },
  {
   "cell_type": "code",
   "execution_count": 33,
   "id": "4775c70c-cc7b-4d2b-8ef5-ed88cd7aa505",
   "metadata": {},
   "outputs": [],
   "source": [
    "title=string.title()"
   ]
  },
  {
   "cell_type": "code",
   "execution_count": 34,
   "id": "3b338472-0b09-4886-a1fb-99078bae26f4",
   "metadata": {},
   "outputs": [
    {
     "name": "stdout",
     "output_type": "stream",
     "text": [
      "Hello In This Everything Is Written In The Lowercase\n"
     ]
    }
   ],
   "source": [
    "print(title) "
   ]
  },
  {
   "cell_type": "code",
   "execution_count": 35,
   "id": "641060a1-c4bc-4911-b0c3-fdd7346a26ea",
   "metadata": {},
   "outputs": [],
   "source": [
    "# Centering the string\n"
   ]
  },
  {
   "cell_type": "code",
   "execution_count": 43,
   "id": "9640c8fb-1c30-452e-95b3-89f216405355",
   "metadata": {},
   "outputs": [
    {
     "name": "stdout",
     "output_type": "stream",
     "text": [
      " Hello ! My name is Sambhav Antriksh  \n"
     ]
    },
    {
     "data": {
      "text/plain": [
       "' Hello ! My name is Sambhav Antriksh  '"
      ]
     },
     "execution_count": 43,
     "metadata": {},
     "output_type": "execute_result"
    }
   ],
   "source": [
    "centere=s.center(5,\"*\")\n",
    "print(centere)\n",
    "centere"
   ]
  },
  {
   "cell_type": "code",
   "execution_count": 45,
   "id": "523c0c1d-26d8-441c-8811-10f22e728c33",
   "metadata": {},
   "outputs": [
    {
     "data": {
      "text/plain": [
       "False"
      ]
     },
     "execution_count": 45,
     "metadata": {},
     "output_type": "execute_result"
    }
   ],
   "source": [
    "#check the nature of the characters of the string\n",
    "string.isalpha() #It returns True if all characters in the string are letters (a-z, A-Z)."
   ]
  },
  {
   "cell_type": "code",
   "execution_count": 46,
   "id": "19f11d84-1a81-4a72-821b-266a045986e3",
   "metadata": {},
   "outputs": [
    {
     "data": {
      "text/plain": [
       "False"
      ]
     },
     "execution_count": 46,
     "metadata": {},
     "output_type": "execute_result"
    }
   ],
   "source": [
    "string.isnumeric()"
   ]
  },
  {
   "cell_type": "markdown",
   "id": "6d727427-e866-41d7-a235-ecfbd60e97e7",
   "metadata": {},
   "source": [
    "There are many other functions in the python associated with the list one can always look up them by \n",
    "dir(str) help(str.isalpha) etc."
   ]
  },
  {
   "cell_type": "markdown",
   "id": "607a656b-28f6-4c76-9324-e7ef6e084da6",
   "metadata": {},
   "source": [
    "# pass and del "
   ]
  },
  {
   "cell_type": "markdown",
   "id": "aa8f8882-cb2a-4ae5-b508-02c0681e41f8",
   "metadata": {},
   "source": [
    "pass is to pass the condition without doing anything.\n",
    "del(list[element]) or del(dict[key]) to delete the element and shift the dict and list accordingly.\n",
    "del(x) undefines the variable if you have previously defined it in code"
   ]
  },
  {
   "cell_type": "code",
   "execution_count": 3,
   "id": "272a7646-0db3-44b9-9dcf-5878b6084d9b",
   "metadata": {},
   "outputs": [
    {
     "name": "stdin",
     "output_type": "stream",
     "text": [
      "Enter the integer yu\n",
      "Enter the integer 5\n"
     ]
    }
   ],
   "source": [
    "# using the pass statement \n",
    "while (True):\n",
    "    try:\n",
    "        n=int(input('Enter the integer'))\n",
    "    except ValueError:\n",
    "        pass\n",
    "    else:\n",
    "        break"
   ]
  },
  {
   "cell_type": "code",
   "execution_count": 4,
   "id": "21431ed2-8453-4ff2-8f25-b1d401de4fa1",
   "metadata": {},
   "outputs": [
    {
     "data": {
      "text/plain": [
       "[1, 2, 3, 4, 6]"
      ]
     },
     "execution_count": 4,
     "metadata": {},
     "output_type": "execute_result"
    }
   ],
   "source": [
    "# using the del in python\n",
    "l=[1,2,3,4,6]\n",
    "l"
   ]
  },
  {
   "cell_type": "code",
   "execution_count": 5,
   "id": "fab28089-ca58-4019-aa83-e9dc52c0c914",
   "metadata": {},
   "outputs": [],
   "source": [
    "del(l[4])"
   ]
  },
  {
   "cell_type": "code",
   "execution_count": 6,
   "id": "fd156053-7ab9-4745-829a-33d79321bfa1",
   "metadata": {},
   "outputs": [
    {
     "data": {
      "text/plain": [
       "[1, 2, 3, 4]"
      ]
     },
     "execution_count": 6,
     "metadata": {},
     "output_type": "execute_result"
    }
   ],
   "source": [
    "l"
   ]
  },
  {
   "cell_type": "code",
   "execution_count": 7,
   "id": "c412579c-f1ee-4383-ad64-d515e3013ffc",
   "metadata": {},
   "outputs": [
    {
     "data": {
      "text/plain": [
       "4"
      ]
     },
     "execution_count": 7,
     "metadata": {},
     "output_type": "execute_result"
    }
   ],
   "source": [
    "len(l)"
   ]
  },
  {
   "cell_type": "code",
   "execution_count": 8,
   "id": "a1a1e1f5-0dfe-4278-bc1c-71f8daa68795",
   "metadata": {},
   "outputs": [
    {
     "data": {
      "text/plain": [
       "{'Sambhav': 50, 'Rakesh': 75, 'Vinesh': 56}"
      ]
     },
     "execution_count": 8,
     "metadata": {},
     "output_type": "execute_result"
    }
   ],
   "source": [
    "d={'Sambhav':50,'Rakesh':75,'Vinesh':56}\n",
    "d"
   ]
  },
  {
   "cell_type": "code",
   "execution_count": 11,
   "id": "b0dbbaac-2a98-4fbc-8be3-14d2e65bd4bc",
   "metadata": {},
   "outputs": [],
   "source": [
    "del(d['Sambhav'])"
   ]
  },
  {
   "cell_type": "code",
   "execution_count": 12,
   "id": "ae27c8d3-b84e-4c45-9164-a7f429f774eb",
   "metadata": {},
   "outputs": [
    {
     "data": {
      "text/plain": [
       "{'Rakesh': 75, 'Vinesh': 56}"
      ]
     },
     "execution_count": 12,
     "metadata": {},
     "output_type": "execute_result"
    }
   ],
   "source": [
    "d"
   ]
  },
  {
   "cell_type": "markdown",
   "id": "0f4b71ef-0ac3-482e-8aa0-ab0398a36487",
   "metadata": {},
   "source": [
    "# None"
   ]
  },
  {
   "cell_type": "markdown",
   "id": "2f07e255-b96b-4c6f-8c88-ba179f7b05ff",
   "metadata": {},
   "source": [
    "In lot of codes we encounter the None. The value assignment says it is initialised with the value nothing.\n",
    "Use it to initialise a name and later check if it has\n",
    "been assigned a valid value"
   ]
  },
  {
   "cell_type": "code",
   "execution_count": 14,
   "id": "bbaed2dd-c325-4857-931a-cde6e0b4af69",
   "metadata": {},
   "outputs": [
    {
     "name": "stdout",
     "output_type": "stream",
     "text": [
      "5\n"
     ]
    }
   ],
   "source": [
    "x=None\n",
    "if x is not None:\n",
    "    y=x\n",
    "print(y)"
   ]
  },
  {
   "cell_type": "code",
   "execution_count": null,
   "id": "b7e9f2fe-35de-48a4-875b-3e383a50aa11",
   "metadata": {},
   "outputs": [],
   "source": []
  }
 ],
 "metadata": {
  "kernelspec": {
   "display_name": "Python 3 (ipykernel)",
   "language": "python",
   "name": "python3"
  },
  "language_info": {
   "codemirror_mode": {
    "name": "ipython",
    "version": 3
   },
   "file_extension": ".py",
   "mimetype": "text/x-python",
   "name": "python",
   "nbconvert_exporter": "python",
   "pygments_lexer": "ipython3",
   "version": "3.12.3"
  }
 },
 "nbformat": 4,
 "nbformat_minor": 5
}
