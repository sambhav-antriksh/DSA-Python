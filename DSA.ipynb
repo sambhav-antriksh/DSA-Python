{
 "cells": [
  {
   "cell_type": "markdown",
   "id": "2d2232fd-dbc8-438e-afe8-60c1eeb89bce",
   "metadata": {},
   "source": [
    "### Data Structures and Algorithm Problems in Python"
   ]
  },
  {
   "cell_type": "markdown",
   "id": "66176d78-2b88-4ef8-b49a-621316de2a8f",
   "metadata": {},
   "source": [
    "<div style=\"color: navy;background-color: #e6f7ff;padding: 10px; border-radius: 5px;\">\n",
    "    1. Define a Python function remdup(l) that takes a nonempty list of integers l and removes all duplicates in l, keeping only the\n",
    "first occurrence of each number\n",
    "</div>"
   ]
  },
  {
   "cell_type": "code",
   "execution_count": null,
   "id": "6b3e99d7-cad9-45f1-aa57-7c8ac1fc30f7",
   "metadata": {
    "jupyter": {
     "source_hidden": true
    }
   },
   "outputs": [],
   "source": [
    "def remdup(l):\n",
    "    answer_list=[]\n",
    "    for i in l:\n",
    "        if i not in answer_list:\n",
    "            answer_list.append(i)\n",
    "        \n",
    "    return answer_list"
   ]
  },
  {
   "cell_type": "markdown",
   "id": "086bc46f-716b-4323-86bd-bd575475884d",
   "metadata": {},
   "source": [
    "<div style=\"color: navy; background-color: #e6f7ff; padding: 10px; border-radius: 5px;\">\n",
    "2. Write a Python function sumsquare(l) that takes a nonempty list of integers and returns a list [odd,even], where odd is the sum of squares all the odd numbers in l and even is the sum of squares of all the even numbers in l.\n",
    "</div>\n"
   ]
  },
  {
   "cell_type": "code",
   "execution_count": null,
   "id": "95b81453-428a-4bde-8e73-d1ca5d6be1f2",
   "metadata": {
    "jupyter": {
     "source_hidden": true
    }
   },
   "outputs": [],
   "source": [
    "def sumsquare(l):\n",
    "    even=0\n",
    "    odd=0\n",
    "    answer_list=[]\n",
    "    for i in l:\n",
    "        if i%2==0:\n",
    "            even=even+i**2\n",
    "        else:\n",
    "            odd=odd+i**2\n",
    "    answer_list.append(odd)\n",
    "    answer_list.append(even)\n",
    "    return answer_list\n",
    "print(sumsquare([-1,-2,3,7]))"
   ]
  },
  {
   "cell_type": "markdown",
   "id": "9b36b474-2fee-402d-b2eb-c7d5b16524a6",
   "metadata": {},
   "source": [
    "<div style=\"color:navy;background-color: #e6f7ff; padding:10px;\">3. A two dimensional matrix can be represented in Python row-wise, as a list of lists: each inner list represents one row of the matrix. Write a Python function transpose(m) that takes as input a two dimensional matrix m and returns the transpose of m. The argument m should remain undisturbed by the function.\n",
    "</div>"
   ]
  },
  {
   "cell_type": "code",
   "execution_count": null,
   "id": "2f0a028e-9e1e-4a95-ae97-be152ed563ff",
   "metadata": {
    "jupyter": {
     "source_hidden": true
    }
   },
   "outputs": [],
   "source": [
    "def transposed_list(l):\n",
    "    transposed_list=[]\n",
    "    transposed_list_rows=[]\n",
    "    for i in range (0,len(l)): ## rows ##\n",
    "        for j in range(0,len(l[0])): ## columns ##\n",
    "            transposed_list_rows.append(l[j][i])\n",
    "        transposed_list.append(transposed_list_rows)\n",
    "        transposed_list_rows=[]\n",
    "    return transposed_list"
   ]
  },
  {
   "cell_type": "markdown",
   "id": "72390701-d5d0-4245-949f-6092a3ace04c",
   "metadata": {},
   "source": [
    "<div style=\"color:navy;background-color: #e6f7ff; padding:10px;\"> 4. A positive integer m can be expresseed as the sum of three squares if it is of the form p + q + r where p, q, r ≥ 0, and p, q, r are all perfect squares. For instance, 2 can be written as 0+1+1 but 7 cannot be expressed as the sum of three squares. The first numbers that cannot be expressed as the sum of three squares are 7, 15, 23, 28, 31, 39, 47, 55, 60, 63, 71, … (see Legendre's three-square theorem).Write a Python function threesquares(m) that takes an integer m as input and returns True if m can be expressed as the sum of three squares and False otherwise. (If m is not positive, your function should return False.) </div>"
   ]
  },
  {
   "cell_type": "code",
   "execution_count": 14,
   "id": "cb6f0a50-fde9-4186-bb25-d17c2d003c3d",
   "metadata": {
    "jupyter": {
     "source_hidden": true
    }
   },
   "outputs": [],
   "source": [
    "def perfect_square(x):\n",
    "    for i in range(x):\n",
    "        if i*i==x:\n",
    "            return True\n",
    "        else:\n",
    "            continue\n",
    "    return False\n",
    "    \n",
    "def threesquares(m):\n",
    "    assert m>0\n",
    "    square_list=[0,1]\n",
    "    for i in range(0,m+1):\n",
    "        if perfect_square(i):\n",
    "            square_list.append(i)\n",
    "    for j in square_list:\n",
    "        for k in square_list:\n",
    "            for n in square_list:\n",
    "                if j+k+n==m:\n",
    "                    return True\n",
    "                else:\n",
    "                    continue\n",
    "    return False\n"
   ]
  },
  {
   "cell_type": "markdown",
   "id": "800e5d71-a69e-49c9-8cf7-40bf67ea54a2",
   "metadata": {},
   "source": [
    "<div style=\"color: navy; background-color: #e6f7ff; padding:10px;\">5. Write a function repfree(s) that takes as input a string s and checks whether any character appears more than once. The function should return True if there are no repetitions and False otherwise. </div>"
   ]
  },
  {
   "cell_type": "code",
   "execution_count": 27,
   "id": "8d47255a-6b37-4eb1-8df9-f2e861a26d16",
   "metadata": {
    "jupyter": {
     "source_hidden": true
    }
   },
   "outputs": [],
   "source": [
    "def repfree(s):\n",
    "    s=list(s)\n",
    "    for char in s:\n",
    "        if list.count(s,char)>1:\n",
    "            return False\n",
    "        else:\n",
    "            continue\n",
    "    return True\n"
   ]
  },
  {
   "cell_type": "markdown",
   "id": "096f43ed-9b49-46e5-b09b-6e240f281a54",
   "metadata": {},
   "source": [
    "<div style=\"color: navy; background-color: #e6f7ff; padding:10px;\">6. A list of numbers is said to be a hill if it consists of an ascending sequence followed by a descending sequence, where each of the sequences is of length at least two. Similarly, a list of numbers is said to be a valley if it consists of an descending sequence followed by an ascending sequence. You can assume that consecutive numbers in the input sequence are always different from each other.Write a Python function hillvalley(l) that takes a list l of integers and returns True if it is a hill or a valley, and False otherwise. </div>"
   ]
  },
  {
   "cell_type": "code",
   "execution_count": 16,
   "id": "83f42583-2973-4f3a-8782-ca708c2495ac",
   "metadata": {
    "jupyter": {
     "source_hidden": true
    }
   },
   "outputs": [],
   "source": [
    "def hillvalley(l):\n",
    "    assert len(l)>=2\n",
    "    counter=0\n",
    "    for i in range(1,len(l)-1):\n",
    "        if l[i-1]<l[i]:\n",
    "            if l[i-1]<l[i]<l[i+1]:\n",
    "                continue\n",
    "            else:\n",
    "                counter+=1\n",
    "        elif l[i-1]>l[i]:\n",
    "            if l[i-1]>l[i]>l[i+1]:\n",
    "                continue\n",
    "            else:\n",
    "                counter+=1\n",
    "                \n",
    "    if counter==1:\n",
    "        return True\n",
    "    else:\n",
    "        return False\n"
   ]
  },
  {
   "cell_type": "markdown",
   "id": "fe82829f-8838-4f04-a16c-d9ceea9a123b",
   "metadata": {},
   "source": [
    "<div style=\"color: navy; background-color: #e6f7ff; padding:10px;\"> 7.We represent scores of batsmen across a sequence of matches in a two level dictionary as follows , {'match1':{'player1':57, 'player2':38}, 'match2':{'player3':9, 'player1':42}, 'match3':{'player2':41, 'player4':63, 'player3':91}. Each match is identified by a string, as is each player. The scores are all integers. The names associated with the matches are not fixed (here they are 'match1', 'match2', 'match3'), nor are the names of the players. A player need not have a score recorded in all matches.\n",
    "\n",
    "Define a Python function orangecap(d) that reads a dictionary d of this form and identifies the player with the highest total score. Your function should return a pair (playername,topscore) where playername is a string, the name of the player with the highest score, and topscore is an integer, the total score of playername.\n",
    "\n",
    "The input will be such that there are never any ties for highest total score.  </div>"
   ]
  },
  {
   "cell_type": "code",
   "execution_count": 43,
   "id": "855e4c68-43cd-430c-b286-679cf796b79a",
   "metadata": {
    "jupyter": {
     "source_hidden": true
    }
   },
   "outputs": [],
   "source": [
    "def orangecap(d):\n",
    "    sum_dictionary={}\n",
    "    orange_cap={}\n",
    "    score=[]\n",
    "    for match in d.keys():\n",
    "        for player in d[match].keys():\n",
    "            if player in sum_dictionary:\n",
    "                sum_dictionary[player]+=d[match][player]\n",
    "            else:\n",
    "                sum_dictionary[player]=d[match][player]\n",
    "\n",
    "# now the problem reduces to find the highest value in the dictionary and its key\n",
    "    \n",
    "    for scores in sorted(sum_dictionary.values()):\n",
    "        score.append(scores)\n",
    "        score.sort()\n",
    "    for key in sum_dictionary.keys():\n",
    "        if sum_dictionary[key]==score[-1]:\n",
    "            return (key,score[-1])\n",
    "        "
   ]
  },
  {
   "cell_type": "markdown",
   "id": "176f9fde-c0df-4909-8482-50c56690e535",
   "metadata": {},
   "source": [
    "<div style=\"color: navy; background-color: #e6f7ff; padding:10px;\"> 8.Each term of the polynomial can be represented as a pair of integers (coefficient,exponent). The polynomial itself is then a list of such pairs.\n",
    "\n",
    "We have the following constraints to guarantee that each polynomial has a unique representation:\n",
    "\n",
    "    Terms are sorted in descending order of exponent\n",
    "    No term has a zero cofficient\n",
    "    No two terms have the same exponent\n",
    "    Exponents are always nonnegative \n",
    " The zero polynomial, 0, is represented as the empty list [], since it has no terms with nonzero coefficients.\n",
    "\n",
    "Write Python functions for the following operations:\n",
    "\n",
    "addpoly(p1,p2)\n",
    "multpoly(p1,p2)\n",
    "\n",
    "that add and multiply two polynomials, respectively.\n",
    "\n",
    "You may assume that the inputs to these functions follow the representation given above. Correspondingly, the outputs from these functions should also obey the same constraints.\n",
    "\n",
    "You can write auxiliary functions to \"clean up\" polynomials – e.g., remove zero coefficient terms, combine like terms, sort by exponent etc. Build a library of functions that can be combined to achieve the desired format.\n",
    "\n",
    "You may also want to convert the list representation to a dictionary representation and manipulate the dictionary representation, and then convert back.\n",
    " For example, the polynomial introduced earlier is represented as:\n",
    "\n",
    "[(3,4),(-17,2),(-3,1),(5,0)]\n",
    "</div>"
   ]
  },
  {
   "cell_type": "code",
   "execution_count": 26,
   "id": "6fec63ee-b005-4508-8669-e03c1ae30f97",
   "metadata": {
    "jupyter": {
     "source_hidden": true
    }
   },
   "outputs": [],
   "source": [
    "def addpoly(p1,p2):\n",
    "    poly1={}\n",
    "    poly2={}\n",
    "    add={}\n",
    "    l=[]\n",
    "    for (coeff,exponent) in p1:\n",
    "        poly1[str(exponent)]=coeff\n",
    "    for (coeff,exponent) in p2:\n",
    "        poly2[str(exponent)]=coeff\n",
    "\n",
    "    # now the task reduces to add two dictionaries having same values\n",
    "\n",
    "    for exponent1 in sorted(poly1.keys()):\n",
    "        for exponent2 in sorted(poly2.keys()):\n",
    "            if exponent1==exponent2:\n",
    "                add[str(exponent1)]=poly1[exponent1]+poly2[exponent2]\n",
    "            else:\n",
    "                add[str(exponent1)]=poly1[exponent1]\n",
    "                add[str(exponent2)]=poly2[exponent2]\n",
    "\n",
    "    \n",
    "    for keys in add.keys():\n",
    "        if add[keys]!=0:\n",
    "            l.append((keys,add[keys]))\n",
    "        \n",
    "    return (l)\n",
    "\n",
    "def multpoly(p1,p2):\n",
    "    poly1={}\n",
    "    poly2={}\n",
    "    mult={}\n",
    "    for (coefficient1,power) in p1:\n",
    "        poly1[power]=coefficient1\n",
    "    for (coefficient2,power) in p2:\n",
    "        poly2[power]=coefficient2\n",
    "\n",
    "    # task is now to multiply two numbers and then store it in dictionary\n",
    "    # finally if the power are same add the values to the previous one\n",
    "\n",
    "    for power1 in (poly1.keys()):\n",
    "        for power2 in (poly2.keys()):\n",
    "            if (power1+power2) in sorted(mult.keys()):\n",
    "                mult[power1+power2]+=poly1[power1]*poly2[power2]\n",
    "            else:\n",
    "                mult[power1+power2]=poly1[power1]*poly2[power2]\n",
    "\n",
    "    mult_list=[]\n",
    "    for power in mult.keys():\n",
    "        if mult[power]!=0:\n",
    "            mult_list.append((power,mult[power]))\n",
    "    return mult_list\n",
    "\n",
    "    \n",
    "            "
   ]
  },
  {
   "cell_type": "markdown",
   "id": "27cbebca-9c2b-46b0-aed3-23039c9637b6",
   "metadata": {},
   "source": [
    "<div style=\"color: navy; background-color: #e6f7ff; padding:10px;\">9.Here are some basic facts about tennis scoring: A tennis match is made up of sets. A set is made up of games.\n",
    "\n",
    "To win a set, a player has to win 6 games with a difference of 2 games. At 6-6, there is often a special tie-breaker. In some cases, players go on playing till one of them wins the set with a difference of two games.\n",
    "\n",
    "Tennis matches can be either 3 sets or 5 sets. The player who wins a majority of sets wins the match (i.e., 2 out 3 sets or 3 out of 5 sets) The score of a match lists out the games in each set, with the overall winner's score reported first for each set. Thus, if the score is 6-3, 5-7, 7-6 it means that the first player won the first set by 6 games to 3, lost the second one 5 games to 7 and won the third one 7 games to 6 (and hence won the overall match as well by 2 sets to 1).\n",
    "\n",
    "You will read input from the keyboard (standard input) containing the results of several tennis matches. Each match's score is recorded on a separate line with the following format:\n",
    "\n",
    "Winner:Loser:Set-1-score,...,Set-k-score, where 2 ≤ k ≤ 5\n",
    "\n",
    "For example, an input line of the form\n",
    "\n",
    "Jabeur:Swiatek:3-6,6-3,6-3\n",
    "\n",
    "indicates that Jabeur beat Swiatek 3-6, 6-3, 6-3 in a best of 3 set match.\n",
    "\n",
    "The input is terminated by a line consisting of the string \"EOF\".\n",
    "\n",
    "You have to write a Python program that reads information about all the matches and compile the following statistics for each player:\n",
    "\n",
    "    Number of best-of-5 set matches won\n",
    "    Number of best-of-3 set matches won\n",
    "    Number of sets won\n",
    "    Number of games won\n",
    "    Number of sets lost\n",
    "    Number of games lost \n",
    "\n",
    "You should print out to the screen (standard output) a summary in decreasing order of ranking, where the ranking is according to the criteria 1-6 in that order (compare item 1, if equal compare item 2, if equal compare item 3 etc, noting that for items 5 and 6 the comparison is reversed).\n",
    "\n",
    "For instance, given the following data\n",
    "\n",
    "Zverev:Alcaraz:2-6,6-7,7-6,6-3,6-1\n",
    "Swiatek:Jabeur:6-4,6-4\n",
    "Alcaraz:Zverev:6-3,6-3\n",
    "Jabeur:Swiatek:1-6,7-5,6-2\n",
    "Zverev:Alcaraz:6-0,7-6,6-3\n",
    "Jabeur:Swiatek:2-6,6-2,6-0\n",
    "Alcaraz:Zverev:6-3,4-6,6-3,6-4\n",
    "Swiatek:Jabeur:6-1,3-6,7-5\n",
    "Zverev:Alcaraz:7-6,4-6,7-6,2-6,6-2\n",
    "Jabeur:Swiatek:6-4,1-6,6-3\n",
    "Alcaraz:Zverev:7-5,7-5\n",
    "Jabeur:Swiatek:3-6,6-3,6-3\n",
    "EOF\n",
    "\n",
    "your program should print out the following\n",
    "\n",
    "Zverev 3 0 10 104 11 106\n",
    "Alcaraz 1 2 11 106 10 104\n",
    "Jabeur 0 4 9 76 8 74\n",
    "Swiatek 0 2 8 74 9 76\n",
    "\n",
    "You can assume that there are no spaces around the punctuation marks \":\", \"-\" and \",\". Each player's name will be spelled consistently and no two players have the same name. \n",
    "</div>"
   ]
  },
  {
   "cell_type": "markdown",
   "id": "48bec5b7-0f0f-4769-a9b8-8416cad532be",
   "metadata": {},
   "source": [
    " for each player {player1:{5 set match won:,3 set match won:, set_won: ,game_won: ,set_lost:, game_lost:} ,player2: {5 set match won:,3 set match won:,set_won:,game_won:,set_lost:,game_lost:}}"
   ]
  },
  {
   "cell_type": "code",
   "execution_count": 33,
   "id": "5c4b5eb3-d22b-43dc-9cef-8c028bf86475",
   "metadata": {
    "jupyter": {
     "source_hidden": true
    }
   },
   "outputs": [],
   "source": [
    "## The whole problem lies on the functionality that we can sort the tuple also.\n",
    "test_tuple=[(1,5,7),(7,1,4),(1,9,0)]\n",
    "test_tuple.sort(reverse=True)\n",
    "# The above line of code will give me the sorted one compared element wise. If equal then compare the other entry.\n"
   ]
  },
  {
   "cell_type": "code",
   "execution_count": 32,
   "id": "2d282db5-fcaf-4dd8-95ec-5354973cb163",
   "metadata": {
    "collapsed": true,
    "jupyter": {
     "outputs_hidden": true,
     "source_hidden": true
    }
   },
   "outputs": [
    {
     "name": "stdin",
     "output_type": "stream",
     "text": [
      " Gauff:Zverev:2-6,6-7,7-6,6-3,6-1\n"
     ]
    },
    {
     "name": "stdout",
     "output_type": "stream",
     "text": [
      "{'Gauff': {'5best': 1, 'sets_won': 3, 'game_won': 27, 'sets_lost': 2, 'games_lost': 23}, 'Zverev': {'5best': 0, 'sets_won': 2, 'game_won': 23, 'sets_lost': 3, 'games_lost': 27}}\n"
     ]
    },
    {
     "name": "stdin",
     "output_type": "stream",
     "text": [
      " Tsitsipas:Zverev:6-3,4-6,6-4,6-3\n"
     ]
    },
    {
     "name": "stdout",
     "output_type": "stream",
     "text": [
      "{'Gauff': {'5best': 1, 'sets_won': 3, 'game_won': 27, 'sets_lost': 2, 'games_lost': 23}, 'Zverev': {'5best': 0, 'sets_won': 3, 'game_won': 39, 'sets_lost': 6, 'games_lost': 49}, 'Tsitsipas': {'5best': 1, 'sets_won': 3, 'game_won': 22, 'sets_lost': 1, 'games_lost': 16}}\n"
     ]
    },
    {
     "name": "stdin",
     "output_type": "stream",
     "text": [
      " Zverev:Thiem:6-0,7-6,6-7,6-3\n"
     ]
    },
    {
     "name": "stdout",
     "output_type": "stream",
     "text": [
      "{'Gauff': {'5best': 1, 'sets_won': 3, 'game_won': 27, 'sets_lost': 2, 'games_lost': 23}, 'Zverev': {'5best': 1, 'sets_won': 6, 'game_won': 64, 'sets_lost': 7, 'games_lost': 65}, 'Tsitsipas': {'5best': 1, 'sets_won': 3, 'game_won': 22, 'sets_lost': 1, 'games_lost': 16}, 'Thiem': {'5best': 0, 'sets_won': 1, 'game_won': 16, 'sets_lost': 3, 'games_lost': 25}}\n"
     ]
    },
    {
     "name": "stdin",
     "output_type": "stream",
     "text": [
      " Thiem:Zverev:6-4,6-4\n"
     ]
    },
    {
     "name": "stdout",
     "output_type": "stream",
     "text": [
      "{'Gauff': {'5best': 1, 'sets_won': 3, 'game_won': 27, 'sets_lost': 2, 'games_lost': 23}, 'Zverev': {'5best': 1, 'sets_won': 6, 'game_won': 72, 'sets_lost': 9, 'games_lost': 77, '3best': 0}, 'Tsitsipas': {'5best': 1, 'sets_won': 3, 'game_won': 22, 'sets_lost': 1, 'games_lost': 16}, 'Thiem': {'5best': 0, 'sets_won': 3, 'game_won': 28, 'sets_lost': 3, 'games_lost': 33, '3best': 1}}\n"
     ]
    },
    {
     "name": "stdin",
     "output_type": "stream",
     "text": [
      " Gauff:Zverev:2-6,6-2,6-0\n"
     ]
    },
    {
     "name": "stdout",
     "output_type": "stream",
     "text": [
      "{'Gauff': {'5best': 1, 'sets_won': 5, 'game_won': 41, 'sets_lost': 3, 'games_lost': 31, '3best': 1}, 'Zverev': {'5best': 1, 'sets_won': 7, 'game_won': 80, 'sets_lost': 11, 'games_lost': 91, '3best': 0}, 'Tsitsipas': {'5best': 1, 'sets_won': 3, 'game_won': 22, 'sets_lost': 1, 'games_lost': 16}, 'Thiem': {'5best': 0, 'sets_won': 3, 'game_won': 28, 'sets_lost': 3, 'games_lost': 33, '3best': 1}}\n"
     ]
    },
    {
     "name": "stdin",
     "output_type": "stream",
     "text": [
      " Thiem:Zverev:6-3,4-6,6-3,6-4\n"
     ]
    },
    {
     "name": "stdout",
     "output_type": "stream",
     "text": [
      "{'Gauff': {'5best': 1, 'sets_won': 5, 'game_won': 41, 'sets_lost': 3, 'games_lost': 31, '3best': 1}, 'Zverev': {'5best': 1, 'sets_won': 8, 'game_won': 96, 'sets_lost': 14, 'games_lost': 113, '3best': 0}, 'Tsitsipas': {'5best': 1, 'sets_won': 3, 'game_won': 22, 'sets_lost': 1, 'games_lost': 16}, 'Thiem': {'5best': 1, 'sets_won': 6, 'game_won': 50, 'sets_lost': 4, 'games_lost': 49, '3best': 1}}\n"
     ]
    },
    {
     "name": "stdin",
     "output_type": "stream",
     "text": [
      " Zverev:Thiem:7-6,4-6,7-6,2-6,6-2\n"
     ]
    },
    {
     "name": "stdout",
     "output_type": "stream",
     "text": [
      "{'Gauff': {'5best': 1, 'sets_won': 5, 'game_won': 41, 'sets_lost': 3, 'games_lost': 31, '3best': 1}, 'Zverev': {'5best': 2, 'sets_won': 11, 'game_won': 122, 'sets_lost': 16, 'games_lost': 139, '3best': 0}, 'Tsitsipas': {'5best': 1, 'sets_won': 3, 'game_won': 22, 'sets_lost': 1, 'games_lost': 16}, 'Thiem': {'5best': 1, 'sets_won': 8, 'game_won': 76, 'sets_lost': 7, 'games_lost': 75, '3best': 1}}\n"
     ]
    },
    {
     "name": "stdin",
     "output_type": "stream",
     "text": [
      " Thiem:Tsitsipas:7-5,7-5\n"
     ]
    },
    {
     "name": "stdout",
     "output_type": "stream",
     "text": [
      "{'Gauff': {'5best': 1, 'sets_won': 5, 'game_won': 41, 'sets_lost': 3, 'games_lost': 31, '3best': 1}, 'Zverev': {'5best': 2, 'sets_won': 11, 'game_won': 122, 'sets_lost': 16, 'games_lost': 139, '3best': 0}, 'Tsitsipas': {'5best': 1, 'sets_won': 3, 'game_won': 32, 'sets_lost': 3, 'games_lost': 30, '3best': 0}, 'Thiem': {'5best': 1, 'sets_won': 10, 'game_won': 90, 'sets_lost': 7, 'games_lost': 85, '3best': 2}}\n"
     ]
    },
    {
     "name": "stdin",
     "output_type": "stream",
     "text": [
      " Gauff:Tsitsipas:3-6,6-3,6-3\n"
     ]
    },
    {
     "name": "stdout",
     "output_type": "stream",
     "text": [
      "{'Gauff': {'5best': 1, 'sets_won': 7, 'game_won': 56, 'sets_lost': 4, 'games_lost': 43, '3best': 2}, 'Zverev': {'5best': 2, 'sets_won': 11, 'game_won': 122, 'sets_lost': 16, 'games_lost': 139, '3best': 0}, 'Tsitsipas': {'5best': 1, 'sets_won': 4, 'game_won': 44, 'sets_lost': 5, 'games_lost': 45, '3best': 0}, 'Thiem': {'5best': 1, 'sets_won': 10, 'game_won': 90, 'sets_lost': 7, 'games_lost': 85, '3best': 2}}\n"
     ]
    },
    {
     "name": "stdin",
     "output_type": "stream",
     "text": [
      " Gauff:Thiem:0-6,0-6,6-0,6-0,7-5\n"
     ]
    },
    {
     "name": "stdout",
     "output_type": "stream",
     "text": [
      "{'Gauff': {'5best': 2, 'sets_won': 10, 'game_won': 75, 'sets_lost': 6, 'games_lost': 60, '3best': 2}, 'Zverev': {'5best': 2, 'sets_won': 11, 'game_won': 122, 'sets_lost': 16, 'games_lost': 139, '3best': 0}, 'Tsitsipas': {'5best': 1, 'sets_won': 4, 'game_won': 44, 'sets_lost': 5, 'games_lost': 45, '3best': 0}, 'Thiem': {'5best': 1, 'sets_won': 12, 'game_won': 107, 'sets_lost': 10, 'games_lost': 104, '3best': 2}}\n"
     ]
    },
    {
     "name": "stdin",
     "output_type": "stream",
     "text": [
      " Tsitsipas:Thiem:6-3,4-6,7-6,0-6,7-5\n"
     ]
    },
    {
     "name": "stdout",
     "output_type": "stream",
     "text": [
      "{'Gauff': {'5best': 2, 'sets_won': 10, 'game_won': 75, 'sets_lost': 6, 'games_lost': 60, '3best': 2}, 'Zverev': {'5best': 2, 'sets_won': 11, 'game_won': 122, 'sets_lost': 16, 'games_lost': 139, '3best': 0}, 'Tsitsipas': {'5best': 2, 'sets_won': 7, 'game_won': 68, 'sets_lost': 7, 'games_lost': 71, '3best': 0}, 'Thiem': {'5best': 1, 'sets_won': 14, 'game_won': 133, 'sets_lost': 13, 'games_lost': 128, '3best': 2}}\n"
     ]
    },
    {
     "name": "stdin",
     "output_type": "stream",
     "text": [
      " EOF\n"
     ]
    },
    {
     "name": "stdout",
     "output_type": "stream",
     "text": [
      "Gauff {'5best': 2, 'sets_won': 10, 'game_won': 75, 'sets_lost': 6, 'games_lost': 60, '3best': 2}\n",
      "Zverev {'5best': 2, 'sets_won': 11, 'game_won': 122, 'sets_lost': 16, 'games_lost': 139, '3best': 0}\n",
      "Tsitsipas {'5best': 2, 'sets_won': 7, 'game_won': 68, 'sets_lost': 7, 'games_lost': 71, '3best': 0}\n",
      "Thiem {'5best': 1, 'sets_won': 14, 'game_won': 133, 'sets_lost': 13, 'games_lost': 128, '3best': 2}\n"
     ]
    }
   ],
   "source": [
    "statistics={}\n",
    "def best_of_three(names,score):\n",
    "    a_counter,b_counter=0,0\n",
    "## 3best and sets_won and other key initialisation ##    \n",
    "    for name in names:\n",
    "        if name not in sorted(statistics.keys()):\n",
    "            statistics[name]={}\n",
    "        if '3best' not in (statistics[name].keys()):\n",
    "            statistics[name]['3best']=0\n",
    "        if 'sets_won' not in (statistics[name].keys()):\n",
    "            statistics[name]['sets_won']=0\n",
    "        if 'game_won' not in (statistics[name].keys()):\n",
    "            statistics[name]['game_won']=0\n",
    "        if 'sets_lost' not in (statistics[name].keys()):\n",
    "            statistics[name]['sets_lost']=0\n",
    "        if 'games_lost' not in (statistics[name].keys()):\n",
    "            statistics[name]['games_lost']=0\n",
    "    statistics[names[0]]['3best']+=1\n",
    "## 3_best calculated ##\n",
    "    \n",
    "## set_won ##\n",
    "    for scores in score:\n",
    "        statistics[names[0]]['game_won']+=int(scores.split('-')[0])\n",
    "        statistics[names[1]]['game_won']+=int(scores.split('-')[1])\n",
    "        statistics[names[0]]['games_lost']+=int(scores.split('-')[1])\n",
    "        statistics[names[1]]['games_lost']+=int(scores.split('-')[0])\n",
    "        if (int(scores.split('-')[0]))>(int(scores.split('-')[1])):\n",
    "            a_counter+=1\n",
    "        else:\n",
    "            b_counter+=1\n",
    "    statistics[names[0]]['sets_won']+=a_counter\n",
    "    statistics[names[1]]['sets_won']+=b_counter\n",
    "    statistics[names[0]]['sets_lost']+=b_counter\n",
    "    statistics[names[1]]['sets_lost']+=a_counter\n",
    "\n",
    "## set_won end ##\n",
    "\n",
    "    return 0\n",
    "    #name =['Zverev','Alcaraz'] the first is winner\n",
    "\n",
    "def best_of_five(names,score):\n",
    "    a_counter,b_counter=0,0\n",
    "    for name in names:\n",
    "        if name not in sorted(statistics.keys()):\n",
    "            statistics[name]={}\n",
    "        if '5best' not in (statistics[name].keys()):\n",
    "            statistics[name]['5best']=0\n",
    "        if 'sets_won' not in (statistics[name].keys()):\n",
    "            statistics[name]['sets_won']=0\n",
    "        if 'game_won' not in (statistics[name].keys()):\n",
    "            statistics[name]['game_won']=0\n",
    "        if 'sets_lost' not in (statistics[name].keys()):\n",
    "            statistics[name]['sets_lost']=0\n",
    "        if 'games_lost' not in (statistics[name].keys()):\n",
    "            statistics[name]['games_lost']=0\n",
    "    statistics[names[0]]['5best']+=1\n",
    "    for scores in score:\n",
    "        statistics[names[0]]['game_won']+=int(scores.split('-')[0])\n",
    "        statistics[names[1]]['game_won']+=int(scores.split('-')[1])\n",
    "        statistics[names[0]]['games_lost']+=int(scores.split('-')[1])\n",
    "        statistics[names[1]]['games_lost']+=int(scores.split('-')[0])        \n",
    "        if (int(scores.split('-')[0]))>(int(scores.split('-')[1])):\n",
    "            a_counter+=1\n",
    "        else:\n",
    "            b_counter+=1\n",
    "    statistics[names[0]]['sets_won']+=a_counter\n",
    "    statistics[names[1]]['sets_won']+=b_counter\n",
    "    statistics[names[0]]['sets_lost']+=b_counter\n",
    "    statistics[names[1]]['sets_lost']+=a_counter\n",
    "    print(statistics)\n",
    "    return 0\n",
    "\n",
    "while(True):\n",
    "    data=input()\n",
    "    if data=='EOF':\n",
    "        break\n",
    "    else:\n",
    "        init_split=data.split(':')\n",
    "        name_list=[init_split[0],init_split[1]] # name of players in the match ['Zverev','Alcaraz']\n",
    "        score_init_split=init_split[2].split(\",\") # score in each game  ['2-6', '6-7', '7-6', '6-3', '6-1']\n",
    "        len_set=len(score_init_split) # length of particular set\n",
    "\n",
    "    if len_set<=3:\n",
    "        #then it is the best of 3 match\n",
    "        best_of_three(name_list,score_init_split)\n",
    "\n",
    "    if 3<len_set<=5:\n",
    "        #then it is the best of 5 match\n",
    "        best_of_five(name_list,score_init_split)\n",
    "for names in statistics.keys():\n",
    "    if '5best' not in statistics[names].keys():\n",
    "        statistics[names]['5best']=0\n",
    "    if '3best' not in statistics[names].keys():\n",
    "        statistics[names]['3best']=0\n",
    "\n",
    "# write in the list of tuple [(#,#,#,#,#,#,name),(#,#,#,#,#,name),...]\n",
    "tuple_list=[]\n",
    "tuple_player=()\n",
    "for name in statistics.keys():\n",
    "    tuple_player=(statistics[name]['5best'],statistics[name]['3best'],statistics[name]['sets_won'],statistics[name]['game_won'],-statistics[name]['sets_lost'],-statistics[name]['games_lost'],name)\n",
    "    tuple_list.append(tuple_player)\n",
    "tuple_list.sort(reverse=True) # main line which sorts the tuple as required\n",
    "for i in range(len(tuple_list)):\n",
    "    print(tuple_list[i][-1],statistics[tuple_list[i][-1]])"
   ]
  }
 ],
 "metadata": {
  "kernelspec": {
   "display_name": "Python 3 (ipykernel)",
   "language": "python",
   "name": "python3"
  },
  "language_info": {
   "codemirror_mode": {
    "name": "ipython",
    "version": 3
   },
   "file_extension": ".py",
   "mimetype": "text/x-python",
   "name": "python",
   "nbconvert_exporter": "python",
   "pygments_lexer": "ipython3",
   "version": "3.12.3"
  }
 },
 "nbformat": 4,
 "nbformat_minor": 5
}
